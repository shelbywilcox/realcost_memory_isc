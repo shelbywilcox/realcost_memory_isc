{
 "cells": [
  {
   "cell_type": "markdown",
   "metadata": {},
   "source": [
    "# import modules"
   ]
  },
  {
   "cell_type": "code",
   "execution_count": 1,
   "metadata": {},
   "outputs": [
    {
     "name": "stderr",
     "output_type": "stream",
     "text": [
      "c:\\users\\shelby\\anaconda3\\envs\\shelby_neuroimaging\\lib\\site-packages\\nilearn\\datasets\\__init__.py:96: FutureWarning: Fetchers from the nilearn.datasets module will be updated in version 0.9 to return python strings instead of bytes and Pandas dataframes instead of Numpy arrays.\n",
      "  \"Numpy arrays.\", FutureWarning)\n"
     ]
    }
   ],
   "source": [
    "import numpy as np\n",
    "import matplotlib.pyplot as plt\n",
    "import os\n",
    "%matplotlib inline\n",
    "from nilearn.input_data import NiftiLabelsMasker\n",
    "from nilearn import input_data, datasets\n",
    "from nilearn import plotting\n",
    "from nilearn.image import new_img_like\n",
    "import nilearn\n",
    "import pandas as pd\n",
    "import scipy\n",
    "\n",
    "### define a helper function to read the onset/name files\n",
    "def read_onsets(curr_subject):\n",
    "    df = pd.read_csv('../data_realcost/onsets/Onsets_RealCost_View_' + curr_subject + '.csv', encoding=\"ISO-8859-1\") \n",
    "    df = df[df.PSA != 'Count']\n",
    "    df = df[df.PSA != 'Imagine'] \n",
    "    df = df.PSA.values\n",
    "    spot_names = []\n",
    "    for i in range(len(df)):\n",
    "        spot_names.append(df[i][:-5])\n",
    "    return spot_names"
   ]
  },
  {
   "cell_type": "code",
   "execution_count": null,
   "metadata": {},
   "outputs": [],
   "source": [
    "#1 set up the files 1 masker file, 1 funct file, import relevant stuff\n",
    "atlas_filename  = '../data_realcost/masker/shen_2mm_268_parcellation.nii'\n",
    "sample_file     = '../data_realcost/masker/func.nii' #just sample data for fitting \n",
    "\n",
    "shen_file       = '../data_realcost/masker/shen_2mm_268_parcellation.nii'\n",
    "\n",
    "shen_masker = input_data.NiftiLabelsMasker(shen_file, \n",
    "                                             detrend     = True, \n",
    "                                             standardize = True,\n",
    "                                             high_pass   = 0.01, \n",
    "                                             t_r         = 1.0,  #check!\n",
    "                                             low_pass    = 0.12 );\n",
    "\n",
    "#2 set up the masker and fit it on some file\n",
    "shen_masker     = NiftiLabelsMasker(labels_img= atlas_filename);\n",
    "shen_masker.fit_transform(sample_file);\n"
   ]
  },
  {
   "cell_type": "markdown",
   "metadata": {},
   "source": [
    "### define onsets and subjs"
   ]
  },
  {
   "cell_type": "code",
   "execution_count": 2,
   "metadata": {},
   "outputs": [
    {
     "name": "stdout",
     "output_type": "stream",
     "text": [
      "12\n",
      "12\n",
      "12\n",
      "40\n"
     ]
    }
   ],
   "source": [
    "onsets_view   =  [6, 66, 127, 187, 248, 308, 369, 429, 490, 550, 611, 671]\n",
    "print(len(onsets_view))\n",
    "\n",
    "onsets_imagine = [47,108,168, 229, 289, 350, 410, 471, 531, 592, 652, 713]\n",
    "print(len(onsets_imagine))\n",
    "\n",
    "spots = ['01_The Real Cost Commercial-Your Skin',\n",
    "         '02_The Real Cost Commercial-Your Teeth',\n",
    "         '03_The Real Cost Commercial-Alison',\n",
    "         '04_The Real Cost Commercial-Stay In Control',\n",
    "         '05_The Real Cost Commercial-Bully',\n",
    "         '06_The Real Cost Commercial-#7000chemicals',\n",
    "         '07_The Real Cost Commercial-Dance30_2015_04_10_TESFA',\n",
    "         '08_The Real Cost Commercial-Band_30_2015_04_10_TESFA',\n",
    "         '09_The Real Cost Commercial-#ReasonsNotToSmoke',\n",
    "         '10_The Real Cost Commercial-Any Reason',\n",
    "         '11_The Real Cost Commercial-Science Class',\n",
    "         '12_The Real Cost Commercial-Found It']\n",
    "n_spots = len(spots)\n",
    "print(n_spots)\n",
    "\n",
    "subjs = ['PSA038','PSA009','PSA078','PSA153','PSA131','PSA086','PSA144','PSA108','PSA030','PSA041',\n",
    "         'PSA068','PSA056','PSA132','PSA019','PSA027','PSA028','PSA016','PSA005','PSA061','PSA010',\n",
    "         'PSA128','PSA003','PSA156','PSA119','PSA032','PSA127','PSA079','PSA094','PSA008','PSA036',\n",
    "         'PSA112','PSA007','PSA151','PSA120','PSA017','PSA029','PSA026','PSA069','PSA142','PSA109']\n",
    "n_subjs = len(subjs)\n",
    "print(len(subjs))\n",
    "\n",
    "view_length    = 30\n",
    "imagine_length = 10\n",
    "tr_shift = 4 "
   ]
  },
  {
   "cell_type": "markdown",
   "metadata": {},
   "source": [
    "### load one person's fMRI data  and that person's onset-file"
   ]
  },
  {
   "cell_type": "code",
   "execution_count": 211,
   "metadata": {},
   "outputs": [],
   "source": [
    "# this sets up the nested dictionary, which will later be populated with subject- and spot-wise data\n",
    "subjs_spots_data = {}\n",
    "\n",
    "\n",
    "# loop over subjects\n",
    "for curr_subj in range(n_subjs):\n",
    "    this_subj_name = subjs[curr_subj]\n",
    "    #print(this_subj_name)\n",
    "    \n",
    "    # setting up a field in the nested dictionary\n",
    "    subjs_spots_data[this_subj_name] = {}\n",
    "\n",
    "    # loop over 12 spots\n",
    "    for curr_spot in range(12):\n",
    "       # print(curr_spot)\n",
    "\n",
    "        # which file shall we load?\n",
    "        curr_file   = '../data_realcost/' + subjs[curr_subj] + '_shen_extracted_hp001_lp012_ltr_stand.npy'\n",
    "\n",
    "        # read this file, i.e. the 735 by 268 'data-carpet', 735 TRs (time) by 268 (regions)\n",
    "        current_time_series = np.load(curr_file)\n",
    "        #print(current_time_series.shape)\n",
    "\n",
    "        # read the corresponding onset-file for this subject: this will tell us when which PSA was shown etc.\n",
    "        this_subj_spots = read_onsets(subjs[curr_subj]) #PSA003\n",
    "        #print(*this_subj_spots, sep = \"\\n\")\n",
    "        #print('-----')\n",
    "        #print(this_subj_spots[curr_spot])\n",
    "\n",
    "        # extract - for the current spot - the data: OF note, at this point, we're just extracting the simple mean, \n",
    "        # i.e. we average over the whole viewing/imagining duration - 30/15 seconds\n",
    "        # note: might have to correct for TR-shift - double check\n",
    "        view_ad_1   = np.mean(current_time_series[onsets_view[curr_spot]+tr_shift: (onsets_view[curr_spot]+view_length+tr_shift), :], axis = 0)\n",
    "        #print(view_ad_1.shape)\n",
    "\n",
    "        imagine_ad_1   = np.mean(current_time_series[onsets_imagine[curr_spot]+tr_shift: (onsets_imagine[curr_spot]+imagine_length+tr_shift), :], axis = 0)\n",
    "        #print(imagine_ad_1.shape)\n",
    "\n",
    "        # now, having extracted the data, we can add them to a dictionary for later use\n",
    "        # add the new spot based on its name (this_subj_spots[curr_spot]) to the dictionary\n",
    "        subjs_spots_data[this_subj_name][this_subj_spots[curr_spot]] = {}\n",
    "\n",
    "        # then populate this dictionary entry with the values \n",
    "        subjs_spots_data[this_subj_name][this_subj_spots[curr_spot]]['position']     = curr_spot;    # which count 0-11 (or 1-12)\n",
    "        subjs_spots_data[this_subj_name][this_subj_spots[curr_spot]]['view_data']    = view_ad_1;    # the vector corresponding to viewing\n",
    "        subjs_spots_data[this_subj_name][this_subj_spots[curr_spot]]['imagine_data'] = imagine_ad_1; # the vector corresponding to imagining\n",
    "\n"
   ]
  },
  {
   "cell_type": "code",
   "execution_count": 5,
   "metadata": {},
   "outputs": [
    {
     "data": {
      "text/plain": [
       "<matplotlib.colorbar.Colorbar at 0x2177ae30e08>"
      ]
     },
     "execution_count": 5,
     "metadata": {},
     "output_type": "execute_result"
    },
    {
     "data": {
      "image/png": "[encoded data removed]",
      "text/plain": [
       "<Figure size 432x288 with 2 Axes>"
      ]
     },
     "metadata": {
      "needs_background": "light"
     },
     "output_type": "display_data"
    }
   ],
   "source": [
    "data_concat = []\n",
    "for curr_subj in range(n_subjs):\n",
    "    #print(curr_subj)\n",
    "    the_subj_name = subjs[curr_subj]\n",
    "    #print(the_subj_name)\n",
    "    curr_data = subjs_spots_data[the_subj_name]['04_The Real Cost Commercial-Stay In Control']['view_data']\n",
    "    data_concat.append(curr_data)\n",
    "    \n",
    "dataall = np.asarray(data_concat)\n",
    "dataall.shape\n",
    "\n",
    "plt.imshow(dataall)\n",
    "\n",
    "plt.imshow(np.corrcoef(dataall), vmin = -1, vmax = 1, cmap = 'seismic')\n",
    "plt.colorbar()"
   ]
  },
  {
   "cell_type": "code",
   "execution_count": 6,
   "metadata": {},
   "outputs": [
    {
     "data": {
      "text/plain": [
       "0.24207100618136454"
      ]
     },
     "execution_count": 6,
     "metadata": {},
     "output_type": "execute_result"
    }
   ],
   "source": [
    "np.corrcoef(dataall)[0,1]"
   ]
  },
  {
   "cell_type": "markdown",
   "metadata": {},
   "source": [
    "### set up nested dictionary"
   ]
  },
  {
   "cell_type": "code",
   "execution_count": 7,
   "metadata": {},
   "outputs": [
    {
     "data": {
      "text/plain": [
       "array([[ 1.       , -0.4695918],\n",
       "       [-0.4695918,  1.       ]])"
      ]
     },
     "execution_count": 7,
     "metadata": {},
     "output_type": "execute_result"
    },
    {
     "data": {
      "image/png": "[encoded data removed]",
      "text/plain": [
       "<Figure size 432x288 with 1 Axes>"
      ]
     },
     "metadata": {
      "needs_background": "light"
     },
     "output_type": "display_data"
    }
   ],
   "source": [
    "\n",
    "v = subjs_spots_data['PSA038']['04_The Real Cost Commercial-Stay In Control']['view_data'] \n",
    "i = subjs_spots_data['PSA038']['04_The Real Cost Commercial-Stay In Control']['imagine_data'] \n",
    "\n",
    "\n",
    "plt.scatter(v,i)\n",
    "np.corrcoef(v, i)"
   ]
  },
  {
   "cell_type": "code",
   "execution_count": 8,
   "metadata": {},
   "outputs": [
    {
     "data": {
      "text/plain": [
       "<matplotlib.colorbar.Colorbar at 0x1a1719e6048>"
      ]
     },
     "execution_count": 8,
     "metadata": {},
     "output_type": "execute_result"
    },
    {
     "data": {
      "image/png": "[encoded data removed]",
      "text/plain": [
       "<Figure size 432x288 with 2 Axes>"
      ]
     },
     "metadata": {
      "needs_background": "light"
     },
     "output_type": "display_data"
    }
   ],
   "source": [
    "data_concat = []\n",
    "for curr_subj in range(n_subjs):\n",
    "    #print(curr_subj)\n",
    "    the_subj_name = subjs[curr_subj]\n",
    "    #print(the_subj_name)\n",
    "    curr_data = subjs_spots_data[the_subj_name]['04_The Real Cost Commercial-Stay In Control']['view_data']\n",
    "    data_concat.append(curr_data)\n",
    "    \n",
    "dataall = np.asarray(data_concat)\n",
    "dataall.shape\n",
    "\n",
    "plt.imshow(dataall)\n",
    "\n",
    "plt.imshow(np.corrcoef(dataall), vmin = -1, vmax = 1, cmap = 'seismic')\n",
    "plt.colorbar()"
   ]
  },
  {
   "cell_type": "code",
   "execution_count": 8,
   "metadata": {},
   "outputs": [],
   "source": [
    "withincorrs = []\n",
    "betweencorrs = []\n",
    "\n",
    "for curr_subj_a in range(n_subjs): #1,2,3 ...\n",
    "    this_subj_a = subjs[curr_subj_a]\n",
    "    #print(this_subj_a)\n",
    "    \n",
    "    for curr_subj_b in range(curr_subj_a+1, n_subjs):\n",
    "        this_subj_b = subjs[curr_subj_b]\n",
    "        #print(this_subj_a)\n",
    "        #print(this_subj_b)\n",
    "        \n",
    "        for curr_spot_a in range(n_spots):\n",
    "            this_spot_a = spots[curr_spot_a]\n",
    "            #print(this_spot_a)\n",
    "            \n",
    "            for curr_spot_b in range(curr_subj_a, n_spots):\n",
    "                this_spot_b = spots[curr_spot_b]\n",
    "                #print(this_spot_b)\n",
    "                \n",
    "                view_a =  subjs_spots_data[this_subj_a][this_spot_a]['view_data'] \n",
    "                view_b =  subjs_spots_data[this_subj_b][this_spot_b]['view_data'] \n",
    "                c_ab = np.corrcoef(view_a, view_b)[0,1]\n",
    "                \n",
    "                if (this_spot_a == this_spot_b):\n",
    "                    #print('---')\n",
    "                    #print('match')\n",
    "                    #print(this_spot_a)\n",
    "                    #print(this_spot_b)\n",
    "                    #print('---')\n",
    "                    withincorrs.append(c_ab)\n",
    "                else:\n",
    "                    betweencorrs.append(c_ab)\n",
    "\n",
    "\n",
    "                \n",
    "        \n",
    "        #print('----')\n",
    "    #print('----')\n"
   ]
  },
  {
   "cell_type": "code",
   "execution_count": 334,
   "metadata": {
    "scrolled": true
   },
   "outputs": [
    {
     "data": {
      "text/plain": [
       "(480, 268)"
      ]
     },
     "execution_count": 334,
     "metadata": {},
     "output_type": "execute_result"
    }
   ],
   "source": [
    "withincorrs_same_ad = []\n",
    "same_view_ads = []\n",
    "same_imagine_ads = []\n",
    "\n",
    "\n",
    "for curr_subj in range(n_subjs): #1,2,3 ...\n",
    "    this_subj = subjs[curr_subj]\n",
    "    #print(this_subj)\n",
    "    \n",
    "    for curr_spot_a in range(n_spots):\n",
    "        this_spot_a = spots[curr_spot_a]\n",
    "                    \n",
    "        view_ad =  subjs_spots_data[this_subj][this_spot_a]['view_data'] \n",
    "        imagine_ad =  subjs_spots_data[this_subj][this_spot_a]['imagine_data'] \n",
    "        same_ad = np.corrcoef(view_ad, imagine_ad)[0,1]\n",
    "                        \n",
    "        #look at a vectors using view ad , imagine_ad\n",
    "        same_view_ads.append(view_ad)\n",
    "        same_imagine_ads.append(imagine_ad)\n",
    "        withincorrs_same_ad.append(same_ad)\n",
    "       # print(this_spot_a)\n",
    "       # print(same_ad)\n",
    "        \n",
    "same_view_array = np.asarray(same_view_ads)\n",
    "same_view_array.shape"
   ]
  },
  {
   "cell_type": "code",
   "execution_count": 135,
   "metadata": {},
   "outputs": [
    {
     "name": "stdout",
     "output_type": "stream",
     "text": [
      "(240, 268)\n"
     ]
    }
   ],
   "source": [
    "view_half1 = []\n",
    "view_half2 = []\n",
    "\n",
    "#for every ad \n",
    "for curr_spot_a in range(n_spots):\n",
    "    \n",
    "    this_spot_a = spots[curr_spot_a]\n",
    "    \n",
    "    for curr_subj in range(20):\n",
    "        this_subj =subjs[curr_subj]\n",
    "       # print(this_subj)\n",
    "       # print(this_spot_a)\n",
    "        #correlate half the subjects to the other half\n",
    "        view_ad_half1 =  subjs_spots_data[this_subj][this_spot_a]['view_data']\n",
    "        view_half1.append(view_ad_half1)\n",
    "       \n",
    "        \n",
    "    \n",
    "    curr_subj_2 = 39\n",
    "    \n",
    "    while curr_subj_2 >= 20 :\n",
    "        this_subj_2 =subjs[curr_subj_2]\n",
    "        view_ad_half2 =  subjs_spots_data[this_subj_2][this_spot_a]['view_data']\n",
    "        view_half2.append(view_ad_half2)\n",
    "        #print(view_ad_half2)\n",
    "        curr_subj_2 -= 1\n",
    "\n",
    "view_half1array = np.asarray(view_half1)\n",
    "view_half2array = np.asarray(view_half2)\n",
    "print(view_half1array.shape)"
   ]
  },
  {
   "cell_type": "code",
   "execution_count": 133,
   "metadata": {},
   "outputs": [
    {
     "name": "stdout",
     "output_type": "stream",
     "text": [
      "PSA038\n",
      "01_The Real Cost Commercial-Your Skin\n",
      "PSA038\n",
      "02_The Real Cost Commercial-Your Teeth\n",
      "PSA038\n",
      "03_The Real Cost Commercial-Alison\n",
      "PSA038\n",
      "04_The Real Cost Commercial-Stay In Control\n",
      "PSA038\n",
      "05_The Real Cost Commercial-Bully\n",
      "PSA038\n",
      "06_The Real Cost Commercial-#7000chemicals\n",
      "PSA038\n",
      "07_The Real Cost Commercial-Dance30_2015_04_10_TESFA\n",
      "PSA038\n",
      "08_The Real Cost Commercial-Band_30_2015_04_10_TESFA\n",
      "PSA038\n",
      "09_The Real Cost Commercial-#ReasonsNotToSmoke\n",
      "PSA038\n",
      "10_The Real Cost Commercial-Any Reason\n",
      "PSA038\n",
      "11_The Real Cost Commercial-Science Class\n",
      "PSA038\n",
      "12_The Real Cost Commercial-Found It\n",
      "PSA009\n",
      "01_The Real Cost Commercial-Your Skin\n",
      "PSA009\n",
      "02_The Real Cost Commercial-Your Teeth\n",
      "PSA009\n",
      "03_The Real Cost Commercial-Alison\n",
      "PSA009\n",
      "04_The Real Cost Commercial-Stay In Control\n",
      "PSA009\n",
      "05_The Real Cost Commercial-Bully\n",
      "PSA009\n",
      "06_The Real Cost Commercial-#7000chemicals\n",
      "PSA009\n",
      "07_The Real Cost Commercial-Dance30_2015_04_10_TESFA\n",
      "PSA009\n",
      "08_The Real Cost Commercial-Band_30_2015_04_10_TESFA\n",
      "PSA009\n",
      "09_The Real Cost Commercial-#ReasonsNotToSmoke\n",
      "PSA009\n",
      "10_The Real Cost Commercial-Any Reason\n",
      "PSA009\n",
      "11_The Real Cost Commercial-Science Class\n",
      "PSA009\n",
      "12_The Real Cost Commercial-Found It\n",
      "PSA078\n",
      "01_The Real Cost Commercial-Your Skin\n",
      "PSA078\n",
      "02_The Real Cost Commercial-Your Teeth\n",
      "PSA078\n",
      "03_The Real Cost Commercial-Alison\n",
      "PSA078\n",
      "04_The Real Cost Commercial-Stay In Control\n",
      "PSA078\n",
      "05_The Real Cost Commercial-Bully\n",
      "PSA078\n",
      "06_The Real Cost Commercial-#7000chemicals\n",
      "PSA078\n",
      "07_The Real Cost Commercial-Dance30_2015_04_10_TESFA\n",
      "PSA078\n",
      "08_The Real Cost Commercial-Band_30_2015_04_10_TESFA\n",
      "PSA078\n",
      "09_The Real Cost Commercial-#ReasonsNotToSmoke\n",
      "PSA078\n",
      "10_The Real Cost Commercial-Any Reason\n",
      "PSA078\n",
      "11_The Real Cost Commercial-Science Class\n",
      "PSA078\n",
      "12_The Real Cost Commercial-Found It\n",
      "PSA153\n",
      "01_The Real Cost Commercial-Your Skin\n",
      "PSA153\n",
      "02_The Real Cost Commercial-Your Teeth\n",
      "PSA153\n",
      "03_The Real Cost Commercial-Alison\n",
      "PSA153\n",
      "04_The Real Cost Commercial-Stay In Control\n",
      "PSA153\n",
      "05_The Real Cost Commercial-Bully\n",
      "PSA153\n",
      "06_The Real Cost Commercial-#7000chemicals\n",
      "PSA153\n",
      "07_The Real Cost Commercial-Dance30_2015_04_10_TESFA\n",
      "PSA153\n",
      "08_The Real Cost Commercial-Band_30_2015_04_10_TESFA\n",
      "PSA153\n",
      "09_The Real Cost Commercial-#ReasonsNotToSmoke\n",
      "PSA153\n",
      "10_The Real Cost Commercial-Any Reason\n",
      "PSA153\n",
      "11_The Real Cost Commercial-Science Class\n",
      "PSA153\n",
      "12_The Real Cost Commercial-Found It\n",
      "PSA131\n",
      "01_The Real Cost Commercial-Your Skin\n",
      "PSA131\n",
      "02_The Real Cost Commercial-Your Teeth\n",
      "PSA131\n",
      "03_The Real Cost Commercial-Alison\n",
      "PSA131\n",
      "04_The Real Cost Commercial-Stay In Control\n",
      "PSA131\n",
      "05_The Real Cost Commercial-Bully\n",
      "PSA131\n",
      "06_The Real Cost Commercial-#7000chemicals\n",
      "PSA131\n",
      "07_The Real Cost Commercial-Dance30_2015_04_10_TESFA\n",
      "PSA131\n",
      "08_The Real Cost Commercial-Band_30_2015_04_10_TESFA\n",
      "PSA131\n",
      "09_The Real Cost Commercial-#ReasonsNotToSmoke\n",
      "PSA131\n",
      "10_The Real Cost Commercial-Any Reason\n",
      "PSA131\n",
      "11_The Real Cost Commercial-Science Class\n",
      "PSA131\n",
      "12_The Real Cost Commercial-Found It\n",
      "PSA086\n",
      "01_The Real Cost Commercial-Your Skin\n",
      "PSA086\n",
      "02_The Real Cost Commercial-Your Teeth\n",
      "PSA086\n",
      "03_The Real Cost Commercial-Alison\n",
      "PSA086\n",
      "04_The Real Cost Commercial-Stay In Control\n",
      "PSA086\n",
      "05_The Real Cost Commercial-Bully\n",
      "PSA086\n",
      "06_The Real Cost Commercial-#7000chemicals\n",
      "PSA086\n",
      "07_The Real Cost Commercial-Dance30_2015_04_10_TESFA\n",
      "PSA086\n",
      "08_The Real Cost Commercial-Band_30_2015_04_10_TESFA\n",
      "PSA086\n",
      "09_The Real Cost Commercial-#ReasonsNotToSmoke\n",
      "PSA086\n",
      "10_The Real Cost Commercial-Any Reason\n",
      "PSA086\n",
      "11_The Real Cost Commercial-Science Class\n",
      "PSA086\n",
      "12_The Real Cost Commercial-Found It\n",
      "PSA144\n",
      "01_The Real Cost Commercial-Your Skin\n",
      "PSA144\n",
      "02_The Real Cost Commercial-Your Teeth\n",
      "PSA144\n",
      "03_The Real Cost Commercial-Alison\n",
      "PSA144\n",
      "04_The Real Cost Commercial-Stay In Control\n",
      "PSA144\n",
      "05_The Real Cost Commercial-Bully\n",
      "PSA144\n",
      "06_The Real Cost Commercial-#7000chemicals\n",
      "PSA144\n",
      "07_The Real Cost Commercial-Dance30_2015_04_10_TESFA\n",
      "PSA144\n",
      "08_The Real Cost Commercial-Band_30_2015_04_10_TESFA\n",
      "PSA144\n",
      "09_The Real Cost Commercial-#ReasonsNotToSmoke\n",
      "PSA144\n",
      "10_The Real Cost Commercial-Any Reason\n",
      "PSA144\n",
      "11_The Real Cost Commercial-Science Class\n",
      "PSA144\n",
      "12_The Real Cost Commercial-Found It\n",
      "PSA108\n",
      "01_The Real Cost Commercial-Your Skin\n",
      "PSA108\n",
      "02_The Real Cost Commercial-Your Teeth\n",
      "PSA108\n",
      "03_The Real Cost Commercial-Alison\n",
      "PSA108\n",
      "04_The Real Cost Commercial-Stay In Control\n",
      "PSA108\n",
      "05_The Real Cost Commercial-Bully\n",
      "PSA108\n",
      "06_The Real Cost Commercial-#7000chemicals\n",
      "PSA108\n",
      "07_The Real Cost Commercial-Dance30_2015_04_10_TESFA\n",
      "PSA108\n",
      "08_The Real Cost Commercial-Band_30_2015_04_10_TESFA\n",
      "PSA108\n",
      "09_The Real Cost Commercial-#ReasonsNotToSmoke\n",
      "PSA108\n",
      "10_The Real Cost Commercial-Any Reason\n",
      "PSA108\n",
      "11_The Real Cost Commercial-Science Class\n",
      "PSA108\n",
      "12_The Real Cost Commercial-Found It\n",
      "PSA030\n",
      "01_The Real Cost Commercial-Your Skin\n",
      "PSA030\n",
      "02_The Real Cost Commercial-Your Teeth\n",
      "PSA030\n",
      "03_The Real Cost Commercial-Alison\n",
      "PSA030\n",
      "04_The Real Cost Commercial-Stay In Control\n",
      "PSA030\n",
      "05_The Real Cost Commercial-Bully\n",
      "PSA030\n",
      "06_The Real Cost Commercial-#7000chemicals\n",
      "PSA030\n",
      "07_The Real Cost Commercial-Dance30_2015_04_10_TESFA\n",
      "PSA030\n",
      "08_The Real Cost Commercial-Band_30_2015_04_10_TESFA\n",
      "PSA030\n",
      "09_The Real Cost Commercial-#ReasonsNotToSmoke\n",
      "PSA030\n",
      "10_The Real Cost Commercial-Any Reason\n",
      "PSA030\n",
      "11_The Real Cost Commercial-Science Class\n",
      "PSA030\n",
      "12_The Real Cost Commercial-Found It\n",
      "PSA041\n",
      "01_The Real Cost Commercial-Your Skin\n",
      "PSA041\n",
      "02_The Real Cost Commercial-Your Teeth\n",
      "PSA041\n",
      "03_The Real Cost Commercial-Alison\n",
      "PSA041\n",
      "04_The Real Cost Commercial-Stay In Control\n",
      "PSA041\n",
      "05_The Real Cost Commercial-Bully\n",
      "PSA041\n",
      "06_The Real Cost Commercial-#7000chemicals\n",
      "PSA041\n",
      "07_The Real Cost Commercial-Dance30_2015_04_10_TESFA\n",
      "PSA041\n",
      "08_The Real Cost Commercial-Band_30_2015_04_10_TESFA\n",
      "PSA041\n",
      "09_The Real Cost Commercial-#ReasonsNotToSmoke\n",
      "PSA041\n",
      "10_The Real Cost Commercial-Any Reason\n",
      "PSA041\n",
      "11_The Real Cost Commercial-Science Class\n",
      "PSA041\n",
      "12_The Real Cost Commercial-Found It\n",
      "PSA068\n",
      "01_The Real Cost Commercial-Your Skin\n",
      "PSA068\n",
      "02_The Real Cost Commercial-Your Teeth\n",
      "PSA068\n",
      "03_The Real Cost Commercial-Alison\n",
      "PSA068\n",
      "04_The Real Cost Commercial-Stay In Control\n",
      "PSA068\n",
      "05_The Real Cost Commercial-Bully\n",
      "PSA068\n",
      "06_The Real Cost Commercial-#7000chemicals\n",
      "PSA068\n",
      "07_The Real Cost Commercial-Dance30_2015_04_10_TESFA\n",
      "PSA068\n",
      "08_The Real Cost Commercial-Band_30_2015_04_10_TESFA\n",
      "PSA068\n",
      "09_The Real Cost Commercial-#ReasonsNotToSmoke\n",
      "PSA068\n",
      "10_The Real Cost Commercial-Any Reason\n",
      "PSA068\n",
      "11_The Real Cost Commercial-Science Class\n",
      "PSA068\n",
      "12_The Real Cost Commercial-Found It\n",
      "PSA056\n",
      "01_The Real Cost Commercial-Your Skin\n",
      "PSA056\n",
      "02_The Real Cost Commercial-Your Teeth\n",
      "PSA056\n",
      "03_The Real Cost Commercial-Alison\n",
      "PSA056\n",
      "04_The Real Cost Commercial-Stay In Control\n",
      "PSA056\n",
      "05_The Real Cost Commercial-Bully\n",
      "PSA056\n",
      "06_The Real Cost Commercial-#7000chemicals\n",
      "PSA056\n",
      "07_The Real Cost Commercial-Dance30_2015_04_10_TESFA\n",
      "PSA056\n",
      "08_The Real Cost Commercial-Band_30_2015_04_10_TESFA\n",
      "PSA056\n",
      "09_The Real Cost Commercial-#ReasonsNotToSmoke\n",
      "PSA056\n",
      "10_The Real Cost Commercial-Any Reason\n",
      "PSA056\n",
      "11_The Real Cost Commercial-Science Class\n",
      "PSA056\n",
      "12_The Real Cost Commercial-Found It\n",
      "PSA132\n",
      "01_The Real Cost Commercial-Your Skin\n",
      "PSA132\n",
      "02_The Real Cost Commercial-Your Teeth\n",
      "PSA132\n",
      "03_The Real Cost Commercial-Alison\n",
      "PSA132\n",
      "04_The Real Cost Commercial-Stay In Control\n",
      "PSA132\n",
      "05_The Real Cost Commercial-Bully\n",
      "PSA132\n",
      "06_The Real Cost Commercial-#7000chemicals\n",
      "PSA132\n",
      "07_The Real Cost Commercial-Dance30_2015_04_10_TESFA\n",
      "PSA132\n",
      "08_The Real Cost Commercial-Band_30_2015_04_10_TESFA\n",
      "PSA132\n",
      "09_The Real Cost Commercial-#ReasonsNotToSmoke\n",
      "PSA132\n",
      "10_The Real Cost Commercial-Any Reason\n",
      "PSA132\n",
      "11_The Real Cost Commercial-Science Class\n",
      "PSA132\n",
      "12_The Real Cost Commercial-Found It\n",
      "PSA019\n",
      "01_The Real Cost Commercial-Your Skin\n",
      "PSA019\n",
      "02_The Real Cost Commercial-Your Teeth\n",
      "PSA019\n",
      "03_The Real Cost Commercial-Alison\n",
      "PSA019\n",
      "04_The Real Cost Commercial-Stay In Control\n",
      "PSA019\n",
      "05_The Real Cost Commercial-Bully\n",
      "PSA019\n",
      "06_The Real Cost Commercial-#7000chemicals\n",
      "PSA019\n",
      "07_The Real Cost Commercial-Dance30_2015_04_10_TESFA\n",
      "PSA019\n",
      "08_The Real Cost Commercial-Band_30_2015_04_10_TESFA\n",
      "PSA019\n",
      "09_The Real Cost Commercial-#ReasonsNotToSmoke\n",
      "PSA019\n",
      "10_The Real Cost Commercial-Any Reason\n",
      "PSA019\n",
      "11_The Real Cost Commercial-Science Class\n",
      "PSA019\n",
      "12_The Real Cost Commercial-Found It\n",
      "PSA027\n",
      "01_The Real Cost Commercial-Your Skin\n",
      "PSA027\n",
      "02_The Real Cost Commercial-Your Teeth\n",
      "PSA027\n",
      "03_The Real Cost Commercial-Alison\n",
      "PSA027\n",
      "04_The Real Cost Commercial-Stay In Control\n",
      "PSA027\n",
      "05_The Real Cost Commercial-Bully\n",
      "PSA027\n",
      "06_The Real Cost Commercial-#7000chemicals\n",
      "PSA027\n",
      "07_The Real Cost Commercial-Dance30_2015_04_10_TESFA\n",
      "PSA027\n",
      "08_The Real Cost Commercial-Band_30_2015_04_10_TESFA\n",
      "PSA027\n",
      "09_The Real Cost Commercial-#ReasonsNotToSmoke\n",
      "PSA027\n",
      "10_The Real Cost Commercial-Any Reason\n",
      "PSA027\n",
      "11_The Real Cost Commercial-Science Class\n",
      "PSA027\n",
      "12_The Real Cost Commercial-Found It\n",
      "PSA028\n",
      "01_The Real Cost Commercial-Your Skin\n",
      "PSA028\n",
      "02_The Real Cost Commercial-Your Teeth\n",
      "PSA028\n",
      "03_The Real Cost Commercial-Alison\n",
      "PSA028\n",
      "04_The Real Cost Commercial-Stay In Control\n",
      "PSA028\n",
      "05_The Real Cost Commercial-Bully\n",
      "PSA028\n",
      "06_The Real Cost Commercial-#7000chemicals\n",
      "PSA028\n",
      "07_The Real Cost Commercial-Dance30_2015_04_10_TESFA\n",
      "PSA028\n",
      "08_The Real Cost Commercial-Band_30_2015_04_10_TESFA\n",
      "PSA028\n",
      "09_The Real Cost Commercial-#ReasonsNotToSmoke\n",
      "PSA028\n",
      "10_The Real Cost Commercial-Any Reason\n",
      "PSA028\n",
      "11_The Real Cost Commercial-Science Class\n",
      "PSA028\n",
      "12_The Real Cost Commercial-Found It\n",
      "PSA016\n",
      "01_The Real Cost Commercial-Your Skin\n",
      "PSA016\n",
      "02_The Real Cost Commercial-Your Teeth\n",
      "PSA016\n",
      "03_The Real Cost Commercial-Alison\n",
      "PSA016\n",
      "04_The Real Cost Commercial-Stay In Control\n",
      "PSA016\n",
      "05_The Real Cost Commercial-Bully\n",
      "PSA016\n",
      "06_The Real Cost Commercial-#7000chemicals\n",
      "PSA016\n",
      "07_The Real Cost Commercial-Dance30_2015_04_10_TESFA\n",
      "PSA016\n",
      "08_The Real Cost Commercial-Band_30_2015_04_10_TESFA\n",
      "PSA016\n",
      "09_The Real Cost Commercial-#ReasonsNotToSmoke\n",
      "PSA016\n",
      "10_The Real Cost Commercial-Any Reason\n",
      "PSA016\n",
      "11_The Real Cost Commercial-Science Class\n",
      "PSA016\n",
      "12_The Real Cost Commercial-Found It\n",
      "PSA005\n",
      "01_The Real Cost Commercial-Your Skin\n",
      "PSA005\n",
      "02_The Real Cost Commercial-Your Teeth\n",
      "PSA005\n",
      "03_The Real Cost Commercial-Alison\n",
      "PSA005\n",
      "04_The Real Cost Commercial-Stay In Control\n",
      "PSA005\n",
      "05_The Real Cost Commercial-Bully\n",
      "PSA005\n",
      "06_The Real Cost Commercial-#7000chemicals\n",
      "PSA005\n",
      "07_The Real Cost Commercial-Dance30_2015_04_10_TESFA\n",
      "PSA005\n",
      "08_The Real Cost Commercial-Band_30_2015_04_10_TESFA\n",
      "PSA005\n",
      "09_The Real Cost Commercial-#ReasonsNotToSmoke\n",
      "PSA005\n",
      "10_The Real Cost Commercial-Any Reason\n",
      "PSA005\n",
      "11_The Real Cost Commercial-Science Class\n",
      "PSA005\n",
      "12_The Real Cost Commercial-Found It\n",
      "PSA061\n",
      "01_The Real Cost Commercial-Your Skin\n",
      "PSA061\n",
      "02_The Real Cost Commercial-Your Teeth\n",
      "PSA061\n",
      "03_The Real Cost Commercial-Alison\n",
      "PSA061\n",
      "04_The Real Cost Commercial-Stay In Control\n",
      "PSA061\n",
      "05_The Real Cost Commercial-Bully\n",
      "PSA061\n",
      "06_The Real Cost Commercial-#7000chemicals\n",
      "PSA061\n",
      "07_The Real Cost Commercial-Dance30_2015_04_10_TESFA\n",
      "PSA061\n",
      "08_The Real Cost Commercial-Band_30_2015_04_10_TESFA\n",
      "PSA061\n",
      "09_The Real Cost Commercial-#ReasonsNotToSmoke\n",
      "PSA061\n",
      "10_The Real Cost Commercial-Any Reason\n",
      "PSA061\n",
      "11_The Real Cost Commercial-Science Class\n",
      "PSA061\n",
      "12_The Real Cost Commercial-Found It\n",
      "PSA010\n",
      "01_The Real Cost Commercial-Your Skin\n",
      "PSA010\n",
      "02_The Real Cost Commercial-Your Teeth\n",
      "PSA010\n",
      "03_The Real Cost Commercial-Alison\n",
      "PSA010\n",
      "04_The Real Cost Commercial-Stay In Control\n",
      "PSA010\n",
      "05_The Real Cost Commercial-Bully\n",
      "PSA010\n",
      "06_The Real Cost Commercial-#7000chemicals\n",
      "PSA010\n",
      "07_The Real Cost Commercial-Dance30_2015_04_10_TESFA\n",
      "PSA010\n",
      "08_The Real Cost Commercial-Band_30_2015_04_10_TESFA\n",
      "PSA010\n",
      "09_The Real Cost Commercial-#ReasonsNotToSmoke\n",
      "PSA010\n",
      "10_The Real Cost Commercial-Any Reason\n",
      "PSA010\n",
      "11_The Real Cost Commercial-Science Class\n",
      "PSA010\n",
      "12_The Real Cost Commercial-Found It\n",
      "0.15569520434572678\n"
     ]
    }
   ],
   "source": [
    "view_half1 = []\n",
    "view_half2 = []\n",
    "\n",
    "#for every ad \n",
    "    \n",
    "for curr_subj in range(20):\n",
    "    this_subj =subjs[curr_subj]\n",
    "    \n",
    "    for curr_spot_a in range(n_spots):\n",
    "        this_spot_a = spots[curr_spot_a]\n",
    "        print(this_subj)\n",
    "        print(this_spot_a)\n",
    "        #correlate half the subjects to the other half\n",
    "        view_ad_half1 =  subjs_spots_data[this_subj][this_spot_a]['view_data']\n",
    "        view_half1.append(view_ad_half1)\n",
    "       \n",
    "        \n",
    "    \n",
    "    curr_subj_2 = 39\n",
    "    \n",
    "while curr_subj_2 >= 20 :\n",
    "    this_subj_2 =subjs[curr_subj_2]\n",
    "    \n",
    "    for curr_spot_a in range(n_spots):\n",
    "        this_spot_a = spots[curr_spot_a]\n",
    "        \n",
    "        \n",
    "        view_ad_half2 =  subjs_spots_data[this_subj_2][this_spot_a]['view_data']\n",
    "        view_half2.append(view_ad_half2)\n",
    "        #print(view_ad_half2)\n",
    "        curr_subj_2 -= 1\n",
    "\n",
    "view_half1array = np.asarray(view_half1)\n",
    "view_half2array = np.asarray(view_half2)\n",
    "print(np.corrcoef(view_half1array,view_half2array)[0,1])"
   ]
  },
  {
   "cell_type": "code",
   "execution_count": 10,
   "metadata": {},
   "outputs": [
    {
     "name": "stdout",
     "output_type": "stream",
     "text": [
      "-0.47007879156733096\n",
      "-0.21052687782363072\n"
     ]
    },
    {
     "data": {
      "text/plain": [
       "5280"
      ]
     },
     "execution_count": 10,
     "metadata": {},
     "output_type": "execute_result"
    }
   ],
   "source": [
    "withincorrs_dif_ad = []\n",
    "\n",
    "            \n",
    "for curr_subj in range(n_subjs): #1,2,3 ...\n",
    "    this_subj = subjs[curr_subj]\n",
    "    #print(this_subj)\n",
    "    \n",
    "    for curr_spot_a in range(n_spots):\n",
    "        this_spot_a = spots[curr_spot_a]\n",
    "        \n",
    "        \n",
    "        for curr_spot_b in range(n_spots):\n",
    "            this_spot_b = spots[curr_spot_b]\n",
    "            \n",
    "            \n",
    "            view_ad_a =  subjs_spots_data[this_subj][this_spot_a]['view_data'] \n",
    "            imagine_ad_b =  subjs_spots_data[this_subj][this_spot_b]['imagine_data'] \n",
    "            dif_ad = np.corrcoef(view_ad_a, imagine_ad_b)[0,1]\n",
    "            \n",
    "            if (this_spot_a != this_spot_b):\n",
    "                    #print('---')\n",
    "                    #print('dif')\n",
    "                    #print(this_spot_a)\n",
    "                    #print(this_spot_b)\n",
    "                    #print('---')\n",
    "                    #print(curr_spot_a)\n",
    "                    #print(curr_spot_b)\n",
    "                    #print('----')\n",
    "                    withincorrs_dif_ad.append(dif_ad)\n",
    "                \n",
    "            \n",
    "           \n",
    "       # print(this_spot_a)\n",
    "       # print(same_ad)\n",
    "\n",
    "                \n",
    "        \n",
    "        #print('----')\n",
    "    #print('----')\n",
    "    \n",
    "#cor_view_to_reimagine = np.corrcoef(view_ad, imagine_ad)\n",
    "#cor_view_to_reimagine\n",
    "\n",
    "#print(withincorrs_same_ad)\n",
    "#ad_array = np.asarray(view_ads)\n",
    "#imagine_array = np.asarray(imagine_ads)\n",
    "same_ad_array = np.asarray(withincorrs_same_ad)\n",
    "dif_ad_array = np.asarray(withincorrs_dif_ad)\n",
    "#np.shape(same_ad_array)\n",
    "#np.shape(dif_ad_array)\n",
    "\n",
    "same_ad_avg = np.mean(same_ad_array)\n",
    "dif_ad_avg = np.mean(dif_ad_array)\n",
    "\n",
    "print(same_ad_avg)\n",
    "print(dif_ad_avg)\n",
    "len(withincorrs_dif_ad)"
   ]
  },
  {
   "cell_type": "code",
   "execution_count": null,
   "metadata": {},
   "outputs": [],
   "source": []
  },
  {
   "cell_type": "code",
   "execution_count": 62,
   "metadata": {},
   "outputs": [],
   "source": [
    "#plt.imshow(np.corrcoef(ad_array,imagine_array), cmap = 'RdPu', vmin = -1, vmax = 1);\n",
    "#plt.colorbar()"
   ]
  },
  {
   "cell_type": "code",
   "execution_count": 49,
   "metadata": {},
   "outputs": [
    {
     "data": {
      "text/plain": [
       "30316"
      ]
     },
     "execution_count": 49,
     "metadata": {},
     "output_type": "execute_result"
    }
   ],
   "source": [
    "w = np.asarray(withincorrs)\n",
    "b = np.asarray(betweencorrs)\n",
    "len(b)"
   ]
  },
  {
   "cell_type": "code",
   "execution_count": null,
   "metadata": {},
   "outputs": [],
   "source": [
    "#figures to add to powerpoint, only do if my notebook really unreadable \n",
    "#visualize activity \n",
    "#compare 20 to 20 subjects, make a subplot comparing view and imagine "
   ]
  },
  {
   "cell_type": "code",
   "execution_count": 13,
   "metadata": {},
   "outputs": [
    {
     "data": {
      "text/plain": [
       "0.31652091639471136"
      ]
     },
     "execution_count": 13,
     "metadata": {},
     "output_type": "execute_result"
    }
   ],
   "source": [
    "np.mean(withincorrs)"
   ]
  },
  {
   "cell_type": "code",
   "execution_count": 14,
   "metadata": {},
   "outputs": [
    {
     "data": {
      "text/plain": [
       "0.2508461622719647"
      ]
     },
     "execution_count": 14,
     "metadata": {},
     "output_type": "execute_result"
    }
   ],
   "source": [
    "np.mean(betweencorrs)"
   ]
  },
  {
   "cell_type": "code",
   "execution_count": 15,
   "metadata": {},
   "outputs": [
    {
     "data": {
      "image/png": "[encoded data removed]",
      "text/plain": [
       "<Figure size 288x432 with 2 Axes>"
      ]
     },
     "metadata": {
      "needs_background": "light"
     },
     "output_type": "display_data"
    }
   ],
   "source": [
    "plt.figure(figsize = (4,6))\n",
    "plt.subplot(2,1,1)\n",
    "plt.hist(withincorrs, color = 'orange')\n",
    "plt.axvline(np.mean(withincorrs), color = 'r')\n",
    "plt.title('Spatial Correlations WITHIn Spots')\n",
    "plt.xlim(-.5,1)\n",
    "plt.xticks([])\n",
    "\n",
    "\n",
    "plt.subplot(2,1,2)\n",
    "plt.hist(betweencorrs)\n",
    "plt.axvline(np.mean(betweencorrs), color = 'r')\n",
    "plt.xlim(-.5,1)\n",
    "plt.title('Spatial Correlations Across Spots')\n",
    "plt.tight_layout()\n",
    "\n"
   ]
  },
  {
   "cell_type": "code",
   "execution_count": 17,
   "metadata": {},
   "outputs": [
    {
     "data": {
      "text/plain": [
       "Ttest_indResult(statistic=13.158295474145326, pvalue=1.916210370065295e-39)"
      ]
     },
     "execution_count": 17,
     "metadata": {},
     "output_type": "execute_result"
    }
   ],
   "source": [
    "scipy.stats.ttest_ind(withincorrs, betweencorrs)"
   ]
  },
  {
   "cell_type": "code",
   "execution_count": 18,
   "metadata": {},
   "outputs": [
    {
     "data": {
      "text/plain": [
       "array([[1.        , 0.24207101],\n",
       "       [0.24207101, 1.        ]])"
      ]
     },
     "execution_count": 18,
     "metadata": {},
     "output_type": "execute_result"
    },
    {
     "data": {
      "image/png": "[encoded data removed]",
      "text/plain": [
       "<Figure size 432x288 with 1 Axes>"
      ]
     },
     "metadata": {
      "needs_background": "light"
     },
     "output_type": "display_data"
    }
   ],
   "source": [
    "v = subjs_spots_data['PSA038']['04_The Real Cost Commercial-Stay In Control']['view_data'] \n",
    "i = subjs_spots_data['PSA009']['04_The Real Cost Commercial-Stay In Control']['view_data'] \n",
    "\n",
    "\n",
    "plt.scatter(v,i)\n",
    "np.corrcoef(v, i)"
   ]
  },
  {
   "cell_type": "code",
   "execution_count": null,
   "metadata": {},
   "outputs": [],
   "source": []
  }
 ],
 "metadata": {
  "kernelspec": {
   "display_name": "Python 3 (ipykernel)",
   "language": "python",
   "name": "python3"
  },
  "language_info": {
   "codemirror_mode": {
    "name": "ipython",
    "version": 3
   },
   "file_extension": ".py",
   "mimetype": "text/x-python",
   "name": "python",
   "nbconvert_exporter": "python",
   "pygments_lexer": "ipython3",
   "version": "3.7.11"
  }
 },
 "nbformat": 4,
 "nbformat_minor": 4
}
